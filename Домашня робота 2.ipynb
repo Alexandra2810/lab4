{
 "cells": [
  {
   "cell_type": "markdown",
   "metadata": {},
   "source": [
    "# Домашня робота №2"
   ]
  },
  {
   "cell_type": "markdown",
   "metadata": {},
   "source": [
    "## 1 Пароль\n",
    "Напишіть програму (функцію) для генерування випадкового пароля з такими обмеженнями:\n",
    "- пароль складається з рівно $10$ символів\n",
    "- пароль містить хоча б одну маленьку латинську літеру [a-z]\n",
    "- пароль містить хоча б одну велику латинську літеру [A-Z]\n",
    "- пароль містить хоча б одну цифру [0-9]\n",
    "- пароль містить хоча б один спеціальний символ [~!@#$%^&*()-_+=\\/{}[].,?<>:;]"
   ]
  },
  {
   "cell_type": "code",
   "execution_count": 1,
   "metadata": {},
   "outputs": [
    {
     "name": "stdout",
     "output_type": "stream",
     "text": [
      "t4:eqLCl,B\n"
     ]
    }
   ],
   "source": [
    "import numpy as np\n",
    "Small_letters=['a', 'b', 'c', 'd', 'e', 'f', 'g', 'h', 'i', 'j', 'k', 'l', 'm', 'n', 'o', 'p', 'q', 'r', 's', 't', 'u', 'v', 'w', 'x', 'y', 'z']\n",
    "Capital_letters=['A', 'B', 'C', 'D', 'E', 'F', 'G', 'H', 'I', 'J', 'K', 'L', 'M', 'N', 'O', 'P', 'Q', 'R', 'S', 'T', 'U', 'V', 'W', 'X', 'Y', 'Z']\n",
    "Numbers=['0', '1', '2', '3', '4', '5', '6', '7', '8', '9']\n",
    "other=['~', '!', '@', '#', '$', '%', '^', '&', '*', '(', ')', '-', '_', '+', '=', '\\\\', '/', '{', '}', '[', ']', '.', ',', '?', '<', '>', ':', ';']\n",
    "password=[]\n",
    "password+=(list(np.random.choice(Small_letters, size=1, replace=True)))\n",
    "password+=(list(np.random.choice(Capital_letters, size=1, replace=True)))\n",
    "password+=(list(np.random.choice(Numbers, size=1, replace=True)))\n",
    "password+=(list(np.random.choice(other, size=1, replace=True)))\n",
    "password+=(list(np.random.choice(other+Numbers+Small_letters+Capital_letters, size=6, replace=True)))\n",
    "#print(password)\n",
    "np.random.shuffle(password)\n",
    "password_string=''\n",
    "for i in password:\n",
    "    password_string+=i\n",
    "print(password_string)\n"
   ]
  },
  {
   "cell_type": "markdown",
   "metadata": {},
   "source": [
    "## 2 Герби в ряд\n",
    "Реалізуйте функцію для обчислення емпіричної та теоретичної імовірностей випадіння $k$ гербів (HEADS) підряд у серії з $n$ підкидань чесної монетки. Підрахуйте відповідні ймовірності для таких параметрів:\n",
    "- $k = 2, n = 10, 50, 100, 500, 1000, 5000, 10000$\n",
    "- $k = 3, n = 10, 50, 100, 500, 1000, 5000, 10000$\n",
    "\n",
    "**Зауваження.** Нехай $k = 2, n = 10$ та маємо таку послідовність результатів підкидання монети: $\\{ H, T, H, H, H, H, T, T, H, T \\}$. Тоді матимемо $3$ випадки випадіння двох гербів підряд та емпіричну ймовірність такої події $1/3$."
   ]
  },
  {
   "cell_type": "code",
   "execution_count": 2,
   "metadata": {},
   "outputs": [
    {
     "name": "stdout",
     "output_type": "stream",
     "text": [
      "[0 0 1 1 1 1 1 0 0 1]\n",
      "0.25 (2, 0.2222222222222222)\n",
      "[1 1 1 1 0 0 0 0 1 0 1 0 0 0 0 1 1 0 1 0 0 1 0 0 1 0 1 0 0 0 1 1 0 0 0 0 1\n",
      " 0 0 1 0 0 0 1 0 0 0 1 0 1]\n",
      "0.25 (18, 0.3673469387755102)\n",
      "0.25 (32, 0.32323232323232326)\n",
      "0.25 (123, 0.24649298597194388)\n",
      "0.25 (238, 0.23823823823823823)\n",
      "0.25 (1238, 0.24764952990598119)\n",
      "0.25 (2495, 0.24952495249524953)\n",
      "[1 0 0 1 1 1 0 0 1 0]\n",
      "0.125 (0, 0.0)\n",
      "[0 0 1 1 1 0 0 1 0 1 1 0 1 0 1 0 1 0 0 0 1 1 1 1 1 1 0 0 0 1 0 1 1 1 1 0 1\n",
      " 1 1 0 0 0 1 1 1 1 0 1 0 0]\n",
      "0.125 (3, 0.061224489795918366)\n",
      "0.125 (19, 0.1919191919191919)\n",
      "0.125 (75, 0.15030060120240482)\n",
      "0.125 (124, 0.12412412412412413)\n",
      "0.125 (601, 0.12022404480896179)\n",
      "0.125 (1246, 0.12461246124612461)\n"
     ]
    }
   ],
   "source": [
    "import numpy as np\n",
    "def probability(n, k):\n",
    "        return((1/2**k))\n",
    "def emp_probability(n, k):\n",
    "    choose_k=(np.random.choice([0, 1], size=n, replace=True))\n",
    "    if n<=50:\n",
    "        print(choose_k)\n",
    "    t=0\n",
    "    for i in range(k-1, n):\n",
    "                    Flag=True\n",
    "                    for j in range (k):\n",
    "                         if choose_k[i-j]!=0:\n",
    "                            Flag=False\n",
    "                            break\n",
    "\n",
    "                    if Flag==True:\n",
    "                        t+=1\n",
    "\n",
    "\n",
    "    return(t, t/(n-1))\n",
    "ks=[2, 3]\n",
    "ns=[10, 50, 100, 500, 1000, 5000, 10000]\n",
    "for k in ks:\n",
    "    for n in ns:\n",
    "        print(probability(n, k), emp_probability(n, k))\n"
   ]
  },
  {
   "cell_type": "markdown",
   "metadata": {},
   "source": [
    "## 3 Найбільше число\n",
    "Реалізуйте функцію підрахунку точної (теоретичної) імовірності того, що максимальне число після $n$ кидків звичайного грального кубика дорівнює $x\\_max$, для таких параметрів:\n",
    "- $n = 3, x\\_max = 6$\n",
    "- $n = 2, x\\_max = 3$\n",
    "- $n = 3, x\\_max = 5$\n",
    "\n",
    "Тобто, якщо $X_i, i = 1, \\ldots, n$, - число на $i$-му кидку кубика, а $X = \\max\\limits_{1 \\leq i \\leq n} X_i$, то потрібно знайти ймовірність $\\textbf{P} \\left( X = x\\_max \\right)$.\n",
    "\n",
    "Підрахуйте також емпіричні ймовірності відповідних подій у випадку $10000$ симуляцій.\n",
    "\n",
    "**Зауваження.** Якщо введені параметри не мають сенсу, то повертати $0$.\n",
    "Тобто, якщо вводиться $x\\_max < 1$ або $x\\_max > 6$."
   ]
  },
  {
   "cell_type": "code",
   "execution_count": 3,
   "metadata": {},
   "outputs": [
    {
     "name": "stdout",
     "output_type": "stream",
     "text": [
      "(1, 1, 6)\n",
      "(1, 2, 6)\n",
      "(1, 3, 6)\n",
      "(1, 4, 6)\n",
      "(1, 5, 6)\n",
      "(1, 6, 6)\n",
      "(2, 2, 6)\n",
      "(2, 3, 6)\n",
      "(2, 4, 6)\n",
      "(2, 5, 6)\n",
      "(2, 6, 6)\n",
      "(3, 3, 6)\n",
      "(3, 4, 6)\n",
      "(3, 5, 6)\n",
      "(3, 6, 6)\n",
      "(4, 4, 6)\n",
      "(4, 5, 6)\n",
      "(4, 6, 6)\n",
      "(5, 5, 6)\n",
      "(5, 6, 6)\n",
      "(6, 6, 6)\n",
      "(21, 0.375) (414, 0.414)\n",
      "(1, 3)\n",
      "(2, 3)\n",
      "(3, 3)\n",
      "(3, 0.14285714285714285) (130, 0.13)\n",
      "(1, 1, 5)\n",
      "(1, 2, 5)\n",
      "(1, 3, 5)\n",
      "(1, 4, 5)\n",
      "(1, 5, 5)\n",
      "(2, 2, 5)\n",
      "(2, 3, 5)\n",
      "(2, 4, 5)\n",
      "(2, 5, 5)\n",
      "(3, 3, 5)\n",
      "(3, 4, 5)\n",
      "(3, 5, 5)\n",
      "(4, 4, 5)\n",
      "(4, 5, 5)\n",
      "(5, 5, 5)\n",
      "(15, 0.26785714285714285) (288, 0.288)\n"
     ]
    }
   ],
   "source": [
    "from itertools import combinations_with_replacement\n",
    "def probability(n, s):\n",
    "    A=list(range(1, 7))\n",
    "    if (s<1) or (s>6):\n",
    "        return(0)\n",
    "    else:\n",
    "        choose_k = list(combinations_with_replacement(A,n))\n",
    "        #print(\"Комбінації довжини {} множини {}: {}\".format(n,A,choose_k))\n",
    "    t=0\n",
    "    for i in choose_k:\n",
    "        if max(i)==s:\n",
    "            t+=1\n",
    "            print(i)\n",
    "    return(t, t/len(choose_k))\n",
    "def emp_probability(n, s, q):\n",
    "    r=0\n",
    "    for i in range (q):\n",
    "        if max(list(np.random.choice(list(range(1, 7)), size=n, replace=True)))==s:\n",
    "               r+=1\n",
    "    return((r, r/q))\n",
    "    \n",
    "print(probability(3, 6), emp_probability(3, 6, 1000))\n",
    "print(probability(2, 3), emp_probability(2, 3, 1000))\n",
    "print(probability(3, 5), emp_probability(3, 5, 1000))\n"
   ]
  },
  {
   "cell_type": "markdown",
   "metadata": {},
   "source": [
    "## 4 Сума чисел\n",
    "Реалізуйте функцію підрахунку точної (теоретичної) імовірності того, що сума чисел після $n$ кидків звичайного грального кубика дорівнює $s$, для таких параметрів:\n",
    "- $n = 3, s = 13$\n",
    "- $n = 2, s = 5$\n",
    "- $n = 3, s = 7$\n",
    "\n",
    "Тобто, якщо $X_i, i = 1, \\ldots, n$, - число на $i$-му кидку кубика, а $X = \\sum\\limits_{i = 1}^{n} X_i$, то потрібно знайти ймовірність $\\textbf{P} \\left( X = s \\right)$.\n",
    "\n",
    "Підрахуйте також емпіричні ймовірності відповідних подій у випадку $10000$ симуляцій.\n",
    "\n",
    "**Зауваження.** Якщо введені параметри не мають сенсу, то повертати $0$.\n",
    "Наприклад, якщо при $n = 3$ вводиться $s < 3$ або $s > 18$."
   ]
  },
  {
   "cell_type": "code",
   "execution_count": 4,
   "metadata": {},
   "outputs": [
    {
     "name": "stdout",
     "output_type": "stream",
     "text": [
      "(1, 6, 6)\n",
      "(2, 5, 6)\n",
      "(3, 4, 6)\n",
      "(3, 5, 5)\n",
      "(4, 4, 5)\n",
      "(5, 0.08928571428571429) (84, 0.084)\n",
      "(1, 4)\n",
      "(2, 3)\n",
      "(2, 0.09523809523809523) (98, 0.098)\n",
      "(1, 1, 5)\n",
      "(1, 2, 4)\n",
      "(1, 3, 3)\n",
      "(2, 2, 3)\n",
      "(4, 0.07142857142857142) (71, 0.071)\n"
     ]
    }
   ],
   "source": [
    "from itertools import combinations_with_replacement\n",
    "def probability(n, s):\n",
    "    A=list(range(1, 7))\n",
    "    if (s<n) or (s>n*6):\n",
    "        return(0)\n",
    "    else:\n",
    "        choose_k = list(combinations_with_replacement(A,n))\n",
    "        #print(\"Комбінації довжини {} множини {}: {}\".format(n,A,choose_k))\n",
    "    t=0\n",
    "    for i in choose_k:\n",
    "        if sum(i)==s:\n",
    "            t+=1\n",
    "            print(i)\n",
    "    return(t, t/len(choose_k))\n",
    "def emp_probability(n, s, q):\n",
    "    r=0\n",
    "    for i in range (q):\n",
    "        if sum(list(np.random.choice(list(range(1, 7)), size=n, replace=True)))==s:\n",
    "               r+=1\n",
    "    return((r, r/q))\n",
    "    \n",
    "print(probability(3, 13), emp_probability(3, 13, 1000))\n",
    "print(probability(2, 5), emp_probability(2, 5, 1000))\n",
    "print(probability(3, 7), emp_probability(3, 7, 1000))"
   ]
  },
  {
   "cell_type": "code",
   "execution_count": null,
   "metadata": {},
   "outputs": [],
   "source": []
  }
 ],
 "metadata": {
  "kernelspec": {
   "display_name": "Python 3",
   "language": "python",
   "name": "python3"
  },
  "language_info": {
   "codemirror_mode": {
    "name": "ipython",
    "version": 3
   },
   "file_extension": ".py",
   "mimetype": "text/x-python",
   "name": "python",
   "nbconvert_exporter": "python",
   "pygments_lexer": "ipython3",
   "version": "3.7.1"
  }
 },
 "nbformat": 4,
 "nbformat_minor": 1
}
